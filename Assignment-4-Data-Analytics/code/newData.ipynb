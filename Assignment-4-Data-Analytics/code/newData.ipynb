{
 "cells": [
  {
   "cell_type": "markdown",
   "metadata": {},
   "source": [
    "<div style=\"background-color: #fff0f5; padding: 15px; border-radius: 8px; border-left: 5px solid #ff69b4;\">\n",
    "    <p style=\"color:#ff69b4; font-family: 'Comic Sans MS', cursive; font-size: 22px; font-weight: bold; margin: 0;\">\n",
    "    Load & Preprocess Data\n",
    "    </p>\n",
    "</div>"
   ]
  },
  {
   "cell_type": "code",
   "execution_count": 11,
   "metadata": {},
   "outputs": [
    {
     "name": "stdout",
     "output_type": "stream",
     "text": [
      "✅ Dataset loaded and cleaned successfully.\n"
     ]
    }
   ],
   "source": [
    "import pandas as pd\n",
    "import matplotlib.pyplot as plt\n",
    "import seaborn as sns\n",
    "\n",
    "sns.set_theme(style=\"whitegrid\", palette=\"pastel\")\n",
    "\n",
    "file_path = \"../data/oldMed_events.csv\"\n",
    "df = pd.read_csv(file_path, names=[\"pnr\", \"eksd\", \"perday\", \"ATC\", \"dur_original\"], \n",
    "                 header=0, parse_dates=[\"eksd\"])\n",
    "\n",
    "df.to_csv(\"../data/newMed_events.csv\", index=False)\n",
    "\n",
    "print(\"✅ Dataset loaded and cleaned successfully.\")\n"
   ]
  },
  {
   "cell_type": "markdown",
   "metadata": {},
   "source": [
    "<div style=\"background-color: #fff0f5; padding: 15px; border-radius: 8px; border-left: 5px solid #ff69b4;\">\n",
    "    <p style=\"color:#ff69b4; font-family: 'Comic Sans MS', cursive; font-size: 22px; font-weight: bold; margin: 0;\">\n",
    "     Dataset Overview \n",
    "    </p>\n",
    "</div>"
   ]
  },
  {
   "cell_type": "code",
   "execution_count": 2,
   "metadata": {},
   "outputs": [
    {
     "name": "stdout",
     "output_type": "stream",
     "text": [
      "Dataset Information\n",
      "\n",
      "<class 'pandas.core.frame.DataFrame'>\n",
      "RangeIndex: 1080 entries, 0 to 1079\n",
      "Data columns (total 5 columns):\n",
      " #   Column        Non-Null Count  Dtype         \n",
      "---  ------        --------------  -----         \n",
      " 0   pnr           1080 non-null   int64         \n",
      " 1   eksd          1080 non-null   datetime64[ns]\n",
      " 2   perday        1080 non-null   int64         \n",
      " 3   atc           1080 non-null   object        \n",
      " 4   dur_original  1080 non-null   int64         \n",
      "dtypes: datetime64[ns](1), int64(3), object(1)\n",
      "memory usage: 42.3+ KB\n"
     ]
    },
    {
     "data": {
      "text/plain": [
       "None"
      ]
     },
     "metadata": {},
     "output_type": "display_data"
    }
   ],
   "source": [
    "print(\"Dataset Information\\n\")\n",
    "display(df.info())\n"
   ]
  },
  {
   "cell_type": "code",
   "execution_count": 3,
   "metadata": {},
   "outputs": [
    {
     "name": "stdout",
     "output_type": "stream",
     "text": [
      "\n",
      "Summary Statistics\n"
     ]
    },
    {
     "data": {
      "text/html": [
       "<div>\n",
       "<style scoped>\n",
       "    .dataframe tbody tr th:only-of-type {\n",
       "        vertical-align: middle;\n",
       "    }\n",
       "\n",
       "    .dataframe tbody tr th {\n",
       "        vertical-align: top;\n",
       "    }\n",
       "\n",
       "    .dataframe thead th {\n",
       "        text-align: right;\n",
       "    }\n",
       "</style>\n",
       "<table border=\"1\" class=\"dataframe\">\n",
       "  <thead>\n",
       "    <tr style=\"text-align: right;\">\n",
       "      <th></th>\n",
       "      <th>pnr</th>\n",
       "      <th>eksd</th>\n",
       "      <th>perday</th>\n",
       "      <th>dur_original</th>\n",
       "    </tr>\n",
       "  </thead>\n",
       "  <tbody>\n",
       "    <tr>\n",
       "      <th>count</th>\n",
       "      <td>1080.000000</td>\n",
       "      <td>1080</td>\n",
       "      <td>1080.000000</td>\n",
       "      <td>1080.00000</td>\n",
       "    </tr>\n",
       "    <tr>\n",
       "      <th>mean</th>\n",
       "      <td>50.934259</td>\n",
       "      <td>2038-01-29 22:02:40</td>\n",
       "      <td>3.762963</td>\n",
       "      <td>47.37963</td>\n",
       "    </tr>\n",
       "    <tr>\n",
       "      <th>min</th>\n",
       "      <td>1.000000</td>\n",
       "      <td>2030-09-06 00:00:00</td>\n",
       "      <td>2.000000</td>\n",
       "      <td>20.00000</td>\n",
       "    </tr>\n",
       "    <tr>\n",
       "      <th>25%</th>\n",
       "      <td>24.000000</td>\n",
       "      <td>2035-06-03 06:00:00</td>\n",
       "      <td>2.000000</td>\n",
       "      <td>30.00000</td>\n",
       "    </tr>\n",
       "    <tr>\n",
       "      <th>50%</th>\n",
       "      <td>51.500000</td>\n",
       "      <td>2037-09-03 12:00:00</td>\n",
       "      <td>4.000000</td>\n",
       "      <td>50.00000</td>\n",
       "    </tr>\n",
       "    <tr>\n",
       "      <th>75%</th>\n",
       "      <td>78.000000</td>\n",
       "      <td>2041-05-05 00:00:00</td>\n",
       "      <td>4.000000</td>\n",
       "      <td>50.00000</td>\n",
       "    </tr>\n",
       "    <tr>\n",
       "      <th>max</th>\n",
       "      <td>100.000000</td>\n",
       "      <td>2044-09-03 00:00:00</td>\n",
       "      <td>20.000000</td>\n",
       "      <td>150.00000</td>\n",
       "    </tr>\n",
       "    <tr>\n",
       "      <th>std</th>\n",
       "      <td>29.999542</td>\n",
       "      <td>NaN</td>\n",
       "      <td>2.139552</td>\n",
       "      <td>22.08091</td>\n",
       "    </tr>\n",
       "  </tbody>\n",
       "</table>\n",
       "</div>"
      ],
      "text/plain": [
       "               pnr                 eksd       perday  dur_original\n",
       "count  1080.000000                 1080  1080.000000    1080.00000\n",
       "mean     50.934259  2038-01-29 22:02:40     3.762963      47.37963\n",
       "min       1.000000  2030-09-06 00:00:00     2.000000      20.00000\n",
       "25%      24.000000  2035-06-03 06:00:00     2.000000      30.00000\n",
       "50%      51.500000  2037-09-03 12:00:00     4.000000      50.00000\n",
       "75%      78.000000  2041-05-05 00:00:00     4.000000      50.00000\n",
       "max     100.000000  2044-09-03 00:00:00    20.000000     150.00000\n",
       "std      29.999542                  NaN     2.139552      22.08091"
      ]
     },
     "metadata": {},
     "output_type": "display_data"
    }
   ],
   "source": [
    "print(\"\\nSummary Statistics\")\n",
    "display(df.describe())"
   ]
  },
  {
   "cell_type": "code",
   "execution_count": 4,
   "metadata": {},
   "outputs": [
    {
     "name": "stdout",
     "output_type": "stream",
     "text": [
      "\n",
      "First 5 Rows\n"
     ]
    },
    {
     "data": {
      "text/html": [
       "<div>\n",
       "<style scoped>\n",
       "    .dataframe tbody tr th:only-of-type {\n",
       "        vertical-align: middle;\n",
       "    }\n",
       "\n",
       "    .dataframe tbody tr th {\n",
       "        vertical-align: top;\n",
       "    }\n",
       "\n",
       "    .dataframe thead th {\n",
       "        text-align: right;\n",
       "    }\n",
       "</style>\n",
       "<table border=\"1\" class=\"dataframe\">\n",
       "  <thead>\n",
       "    <tr style=\"text-align: right;\">\n",
       "      <th></th>\n",
       "      <th>pnr</th>\n",
       "      <th>eksd</th>\n",
       "      <th>perday</th>\n",
       "      <th>atc</th>\n",
       "      <th>dur_original</th>\n",
       "    </tr>\n",
       "  </thead>\n",
       "  <tbody>\n",
       "    <tr>\n",
       "      <th>0</th>\n",
       "      <td>1</td>\n",
       "      <td>2033-04-26</td>\n",
       "      <td>4</td>\n",
       "      <td>medA</td>\n",
       "      <td>50</td>\n",
       "    </tr>\n",
       "    <tr>\n",
       "      <th>1</th>\n",
       "      <td>1</td>\n",
       "      <td>2033-07-04</td>\n",
       "      <td>4</td>\n",
       "      <td>medB</td>\n",
       "      <td>30</td>\n",
       "    </tr>\n",
       "    <tr>\n",
       "      <th>2</th>\n",
       "      <td>1</td>\n",
       "      <td>2033-08-03</td>\n",
       "      <td>4</td>\n",
       "      <td>medB</td>\n",
       "      <td>30</td>\n",
       "    </tr>\n",
       "    <tr>\n",
       "      <th>3</th>\n",
       "      <td>1</td>\n",
       "      <td>2033-08-17</td>\n",
       "      <td>4</td>\n",
       "      <td>medB</td>\n",
       "      <td>30</td>\n",
       "    </tr>\n",
       "    <tr>\n",
       "      <th>4</th>\n",
       "      <td>1</td>\n",
       "      <td>2033-10-13</td>\n",
       "      <td>4</td>\n",
       "      <td>medB</td>\n",
       "      <td>30</td>\n",
       "    </tr>\n",
       "  </tbody>\n",
       "</table>\n",
       "</div>"
      ],
      "text/plain": [
       "   pnr       eksd  perday   atc  dur_original\n",
       "0    1 2033-04-26       4  medA            50\n",
       "1    1 2033-07-04       4  medB            30\n",
       "2    1 2033-08-03       4  medB            30\n",
       "3    1 2033-08-17       4  medB            30\n",
       "4    1 2033-10-13       4  medB            30"
      ]
     },
     "metadata": {},
     "output_type": "display_data"
    }
   ],
   "source": [
    "print(\"\\nFirst 5 Rows\")\n",
    "display(df.head())"
   ]
  },
  {
   "cell_type": "markdown",
   "metadata": {},
   "source": [
    "<div style=\"background-color: #fff0f5; padding: 15px; border-radius: 8px; border-left: 5px solid #ff69b4;\">\n",
    "    <p style=\"color:#ff69b4; font-family: 'Comic Sans MS', cursive; font-size: 22px; font-weight: bold; margin: 0;\">\n",
    "Data Visualization\n",
    "    </p>\n",
    "</div>"
   ]
  },
  {
   "cell_type": "code",
   "execution_count": 5,
   "metadata": {},
   "outputs": [
    {
     "data": {
      "image/png": "[encoded data removed]",
      "text/plain": [
       "<Figure size 1400x500 with 2 Axes>"
      ]
     },
     "metadata": {},
     "output_type": "display_data"
    }
   ],
   "source": [
    "# Set figure for histograms\n",
    "fig, axes = plt.subplots(1, 2, figsize=(14, 5))\n",
    "colors = [\"#FFB6C1\", \"#D8BFD8\"]\n",
    "\n",
    "# Histograms with KDE\n",
    "for i, col in enumerate([\"perday\", \"dur_original\"]):\n",
    "    sns.histplot(df[col], bins=25, kde=True, ax=axes[i], color=colors[i])\n",
    "    axes[i].set_title(f'Distribution of {col}', fontsize=14, fontweight='bold')\n",
    "    axes[i].set_xlabel(col)\n",
    "    axes[i].set_ylabel('Count')\n",
    "    axes[i].set_xlim(left=0)\n",
    "\n",
    "plt.tight_layout()\n",
    "plt.show()"
   ]
  }
 ],
 "metadata": {
  "kernelspec": {
   "display_name": "env",
   "language": "python",
   "name": "python3"
  },
  "language_info": {
   "codemirror_mode": {
    "name": "ipython",
    "version": 3
   },
   "file_extension": ".py",
   "mimetype": "text/x-python",
   "name": "python",
   "nbconvert_exporter": "python",
   "pygments_lexer": "ipython3",
   "version": "3.13.2"
  }
 },
 "nbformat": 4,
 "nbformat_minor": 2
}
