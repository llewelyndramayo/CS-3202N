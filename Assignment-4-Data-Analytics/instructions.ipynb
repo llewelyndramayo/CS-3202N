{
 "cells": [
  {
   "cell_type": "markdown",
   "metadata": {},
   "source": [
    "<div style=\"font-family: 'Comic Sans MS', cursive;\">\n",
    "\n",
    "# 📌 <span style=\"color:#ff69b4; font-weight:bold;\">Assignment 2: Clustering - Sessa Empirical Estimator</span>\n",
    "\n",
    "## 📝 <span style=\"color:#ff69b4;\">Instructions</span>\n",
    "\n",
    "### 🎯 <span style=\"color:#ff69b4;\">Objective</span>\n",
    "Convert the provided R code into Python (using Jupyter Notebook) and apply the **Sessa Empirical Estimator** for clustering. Utilize either simulated data from [Frontiers in Pharmacology](https://www.frontiersin.org/journals/pharmacology/articles/10.3389/fphar.2019.00383/full) or a real-world dataset from [Kaggle](https://www.kaggle.com/) or the [UCI Machine Learning Repository](https://archive.ics.uci.edu/).\n",
    "\n",
    "---\n",
    "\n",
    "## 📂 <span style=\"color:#ff69b4;\">Steps</span>\n",
    "\n",
    "### 📖 <span style=\"color:#ff69b4;\">1. Read and Understand the Sessa Empirical Estimator</span>\n",
    "- Review relevant journals about the **Sessa Empirical Estimator**.\n",
    "\n",
    "### 💻 <span style=\"color:#ff69b4;\">2. Convert R Code to Python</span>\n",
    "- Implement the **Sessa Empirical Estimator** using Python.\n",
    "- Use **Jupyter Notebook** for implementation.\n",
    "\n",
    "### 📊 <span style=\"color:#ff69b4;\">3. Data Selection</span>\n",
    "- Choose an appropriate dataset (**simulated** or **real-world**).\n",
    "- Preprocess and clean the data as necessary.\n",
    "\n",
    "### 🔍 <span style=\"color:#ff69b4;\">4. Apply the Sessa Empirical Estimator</span>\n",
    "- Implement **K-Means clustering** for the Sessa Empirical Estimator.\n",
    "- Analyze the results and generate insights.\n",
    "\n",
    "### 🔄 <span style=\"color:#ff69b4;\">5. Substituting K-Means with Another Clustering Algorithm</span>\n",
    "- Choose a different clustering algorithm (e.g., **DBSCAN, Hierarchical Clustering, Gaussian Mixture Models**).\n",
    "- Apply the selected clustering method.\n",
    "- Compare results with K-Means.\n",
    "\n",
    "### 📈 <span style=\"color:#ff69b4;\">6. Comparison and Insights</span>\n",
    "- Compare the performance and insights derived from:\n",
    "  - **Sessa Empirical Estimator using K-Means**.\n",
    "  - **Sessa Empirical Estimator using an alternative clustering algorithm**.\n",
    "- Discuss the strengths and weaknesses of each approach.\n",
    "\n",
    "### ⚙️ <span style=\"color:#ff69b4;\">7. Callable Functions Implementation</span>\n",
    "- Create **callable functions** for each step of the analysis.\n",
    "- Verify if the functions yield the same results as the Jupyter Notebook implementation.\n",
    "\n",
    "---\n",
    "\n",
    "## 📅 <span style=\"color:#ff69b4;\">Submission Details</span>\n",
    "- **📌 Deadline:** Tuesday, **February 25, 2025, at 11:59 PM**.\n",
    "- **🤝 Collaboration:** Work with your **thesis partner**.\n",
    "- **💡 AI Assistance:** You may use any AI assistant.\n",
    "</div>\n",
    "\n"
   ]
  }
 ],
 "metadata": {
  "kernelspec": {
   "display_name": "env",
   "language": "python",
   "name": "python3"
  },
  "language_info": {
   "name": "python",
   "version": "3.13.2"
  }
 },
 "nbformat": 4,
 "nbformat_minor": 2
}
