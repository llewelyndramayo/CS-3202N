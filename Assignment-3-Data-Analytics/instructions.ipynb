{
 "cells": [
  {
   "cell_type": "markdown",
   "metadata": {},
   "source": [
    "<div style=\"font-family: 'Comic Sans MS', cursive;\">\n",
    "\n",
    "# 📌 <span style=\"color:#ff69b4; font-weight:bold;\">Assignment 1: Clustering - Target Trial Emulation (TTE)</span>\n",
    "\n",
    "## 📝 <span style=\"color:#ff69b4;\">Instructions</span>\n",
    "\n",
    "### 🎯 <span style=\"color:#ff69b4;\">Objective</span>\n",
    "In this assignment, you will explore Target Trial Emulation (TTE), a new methodological framework in epidemiology. Your goal is to replicate the R-based TTE methodology in Python using Jupyter Notebook, and then integrate a clustering mechanism creatively into the existing TTE framework. Generate insights based on your clustering results and explore how clustering can improve the TTE process.\n",
    "\n",
    "---\n",
    "\n",
    "## 📂 <span style=\"color:#ff69b4;\">Steps</span>\n",
    "\n",
    "### 📖 <span style=\"color:#ff69b4;\">1. Understand Target Trial Emulation (TTE)</span>\n",
    "- Visit the [TTE article](https://rpubs.com/alanyang0924/TTE) to review the current framework and its purpose in epidemiology.\n",
    "- Familiarize yourself with the TTE methodology and how it accounts for biases in traditional designs.\n",
    "\n",
    "### 📊 <span style=\"color:#ff69b4;\">2. Data Extraction and Preparation</span>\n",
    "- Extract the dummy data provided in the package.\n",
    "- Save it as `data_censored.csv`.\n",
    "- Preprocess the data, ensuring it's in the right format for analysis.\n",
    "\n",
    "### 💻 <span style=\"color:#ff69b4;\">3. Convert R Code to Python</span>\n",
    "- Replicate the results from the R code in Python using **Jupyter Notebook**.\n",
    "- Ensure that your Python code produces the same results as the original R code for TTE.\n",
    "\n",
    "### 🧠 <span style=\"color:#ff69b4;\">4. Integrate Clustering into TTE (TTE-v2)</span>\n",
    "- Create a copy of your Python code and name it **TTE-v2**.\n",
    "- Think creatively about where you can integrate a clustering method within the TTE process.\n",
    "  - What clustering technique would fit best? (e.g., **K-Means, DBSCAN, Agglomerative Clustering**)\n",
    "  - Which step in the framework could benefit from clustering?\n",
    "- Implement the clustering method and ensure it fits seamlessly into the existing TTE workflow.\n",
    "\n",
    "### 🔍 <span style=\"color:#ff69b4;\">5. Analyze and Generate Insights</span>\n",
    "- Once clustering is applied, analyze the results.\n",
    "- Generate insights based on the new clusters and how they might improve the TTE process or help interpret the results in a novel way.\n",
    "- Discuss the effectiveness of integrating clustering into the TTE framework.\n",
    "\n",
    "### ⚙️ <span style=\"color:#ff69b4;\">6. Final Touches and Documentation</span>\n",
    "- Document your process clearly, explaining each step and how clustering was integrated.\n",
    "- Make sure your code is well-commented and easy to follow.\n",
    "\n",
    "---\n",
    "\n",
    "## 📅 <span style=\"color:#ff69b4;\">Submission Details</span>\n",
    "- **📌 Deadline:** Thursday, **February 28, 2025, at 11:59 PM**.\n",
    "- **🤝 Collaboration:** Work with your **thesis partner**.\n",
    "- **💡 AI Assistance:** You may use any AI assistant to help with the implementation.\n",
    "- **📤 GitHub:** Push all files to your GitHub repository.\n",
    "\n",
    "</div>\n"
   ]
  }
 ],
 "metadata": {
  "language_info": {
   "name": "python"
  }
 },
 "nbformat": 4,
 "nbformat_minor": 2
}
