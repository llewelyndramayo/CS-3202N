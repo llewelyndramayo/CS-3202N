{
 "cells": [
  {
   "cell_type": "markdown",
   "id": "ba88f95c-76f9-4923-aec1-b206ea08534a",
   "metadata": {
    "jp-MarkdownHeadingCollapsed": true
   },
   "source": [
    "# Assignment 1\n",
    "\n",
    "**Objective:**  \n",
    "This assignment tests your algorithmic thinking skills. You may use any A.I. tools or resources to assist you in completing this coding assignment.\n",
    "\n",
    "---\n",
    "\n",
    "## Instructions:\n",
    "\n",
    "1. **Teamwork:**  \n",
    "   - This assignment is to be done in pairs, preferably with your thesis partner.\n",
    "   \n",
    "2. **GitHub Repository:**  \n",
    "   - Each person should create a GitHub repository titled `Assignment_1_Data_Analytics`.\n",
    "   \n",
    "3. **Read the Journal:**  \n",
    "   - Thoroughly read the journal provided (make sure to check any additional resources).\n",
    "   \n",
    "4. **Develop Python Implementation:**  \n",
    "   - Implement the procedures discussed in the journal using Python. This should be a clean and well-documented Python implementation.\n",
    "   \n",
    "5. **Deadline:**  \n",
    "   - The assignment is due **before the pre-midterm week**. Make sure to finish and submit your work on time.\n",
    "\n",
    "---\n",
    "\n",
    "## Deliverables:\n",
    "1. Python implementation of the procedures outlined in the journal.\n",
    "2. Link to the **GitHub repository** containing the code.\n"
   ]
  },
  {
   "cell_type": "markdown",
   "id": "3f66197e",
   "metadata": {},
   "source": [
    "<span style=\"font-size: 20px; color: #6E3482;\">I. Imports and Setup</span>\n"
   ]
  },
  {
   "cell_type": "code",
   "execution_count": 15,
   "id": "c1d80d79",
   "metadata": {},
   "outputs": [],
   "source": [
    "import numpy as np\n",
    "import pandas as pd\n",
    "from scipy.spatial.distance import cdist\n",
    "from collections import defaultdict\n",
    "\n",
    "# Set random seed for reproducibility\n",
    "np.random.seed(24)\n",
    "\n",
    "# Define constants\n",
    "number_of_patients = 200\n",
    "evaluation_years = 4\n",
    "evaluation_months = evaluation_years * 12\n",
    "MAX_MATCHES = 100\n",
    "\n",
    "# Define the variables used in the model\n",
    "variables = ['pain_current', 'urgency_current', 'frequency_current', \n",
    "             'pain_baseline', 'urgency_baseline', 'frequency_baseline']\n"
   ]
  },
  {
   "cell_type": "markdown",
   "id": "110d71c2",
   "metadata": {},
   "source": [
    "<span style=\"font-size: 20px; color: #6E3482;\"> II. Baseline Data Generation</span>"
   ]
  },
  {
   "cell_type": "code",
   "execution_count": 19,
   "id": "d1b12eae",
   "metadata": {},
   "outputs": [
    {
     "name": "stdout",
     "output_type": "stream",
     "text": [
      "   patient_id gender  pain  urgency  frequency  age location medical_history\n",
      "0           0      F     3        8         10   28    Urban          Asthma\n",
      "1           1      F     1        1         18   62    Rural        Diabetes\n",
      "2           2      M     6        6          8   27    Urban          Asthma\n",
      "3           3      F     0        0          0   60    Urban        Diabetes\n",
      "4           4      M     6        2          3   18    Rural          Asthma\n"
     ]
    }
   ],
   "source": [
    "# Generate baseline data for patients\n",
    "baseline = pd.DataFrame({\n",
    "    \"patient_id\": np.arange(number_of_patients),  # Ensure unique patient_id from 0 to number_of_patients-1\n",
    "    \"gender\": np.random.choice(['M', 'F'], number_of_patients),\n",
    "    \"pain\": np.random.randint(0, 10, number_of_patients),\n",
    "    \"urgency\": np.random.randint(0, 10, number_of_patients),\n",
    "    \"frequency\": np.random.randint(0, 20, number_of_patients),\n",
    "    \"age\": np.random.randint(18, 75, number_of_patients),\n",
    "    \"location\": np.random.choice(['Urban', 'Rural'], number_of_patients),\n",
    "    \"medical_history\": np.random.choice(['None', 'Diabetes', 'Hypertension', 'Asthma'], number_of_patients)\n",
    "})\n",
    "\n",
    "# Display the first few rows of the baseline data\n",
    "print(baseline.head())"
   ]
  },
  {
   "cell_type": "markdown",
   "id": "66adede0",
   "metadata": {},
   "source": [
    "<span style=\"font-size: 20px; color: #6E3482;\"> III. Generating Patient Evaluations</span>"
   ]
  },
  {
   "cell_type": "code",
   "execution_count": 20,
   "id": "7d24a245",
   "metadata": {},
   "outputs": [
    {
     "data": {
      "text/html": [
       "<div>\n",
       "<style scoped>\n",
       "    .dataframe tbody tr th:only-of-type {\n",
       "        vertical-align: middle;\n",
       "    }\n",
       "\n",
       "    .dataframe tbody tr th {\n",
       "        vertical-align: top;\n",
       "    }\n",
       "\n",
       "    .dataframe thead th {\n",
       "        text-align: right;\n",
       "    }\n",
       "</style>\n",
       "<table border=\"1\" class=\"dataframe\">\n",
       "  <thead>\n",
       "    <tr style=\"text-align: right;\">\n",
       "      <th></th>\n",
       "      <th>pain_level</th>\n",
       "      <th>urgency_level</th>\n",
       "      <th>symptom_frequency</th>\n",
       "    </tr>\n",
       "    <tr>\n",
       "      <th>patient_index</th>\n",
       "      <th></th>\n",
       "      <th></th>\n",
       "      <th></th>\n",
       "    </tr>\n",
       "  </thead>\n",
       "  <tbody>\n",
       "    <tr>\n",
       "      <th>0</th>\n",
       "      <td>4.8125</td>\n",
       "      <td>4.3750</td>\n",
       "      <td>11.6875</td>\n",
       "    </tr>\n",
       "    <tr>\n",
       "      <th>1</th>\n",
       "      <td>4.2500</td>\n",
       "      <td>4.5625</td>\n",
       "      <td>7.7500</td>\n",
       "    </tr>\n",
       "    <tr>\n",
       "      <th>2</th>\n",
       "      <td>5.8125</td>\n",
       "      <td>3.2500</td>\n",
       "      <td>7.5000</td>\n",
       "    </tr>\n",
       "    <tr>\n",
       "      <th>3</th>\n",
       "      <td>3.3750</td>\n",
       "      <td>3.0625</td>\n",
       "      <td>9.3750</td>\n",
       "    </tr>\n",
       "    <tr>\n",
       "      <th>4</th>\n",
       "      <td>3.5625</td>\n",
       "      <td>4.1875</td>\n",
       "      <td>8.1875</td>\n",
       "    </tr>\n",
       "  </tbody>\n",
       "</table>\n",
       "</div>"
      ],
      "text/plain": [
       "               pain_level  urgency_level  symptom_frequency\n",
       "patient_index                                              \n",
       "0                  4.8125         4.3750            11.6875\n",
       "1                  4.2500         4.5625             7.7500\n",
       "2                  5.8125         3.2500             7.5000\n",
       "3                  3.3750         3.0625             9.3750\n",
       "4                  3.5625         4.1875             8.1875"
      ]
     },
     "execution_count": 20,
     "metadata": {},
     "output_type": "execute_result"
    }
   ],
   "source": [
    "# List to store all patient evaluations\n",
    "patient_evaluations = []\n",
    "\n",
    "# Generate evaluations for each patient\n",
    "for patient_index in range(number_of_patients):\n",
    "    treatment_start_time = np.random.choice(list(np.arange(3, evaluation_months + 1, 3)) + [None])\n",
    "    \n",
    "    # Simulate evaluations every 3 months\n",
    "    for evaluation_month in range(3, evaluation_months + 1, 3):\n",
    "        pain_level = np.random.randint(0, 10)\n",
    "        urgency_level = np.random.randint(0, 10)\n",
    "        symptom_frequency = np.random.randint(0, 20)\n",
    "        is_treated = 1 if treatment_start_time and evaluation_month >= treatment_start_time else 0\n",
    "        \n",
    "        # Store the evaluation for this patient\n",
    "        patient_evaluations.append({\n",
    "            'patient_index': patient_index,\n",
    "            'pain_level': pain_level,\n",
    "            'urgency_level': urgency_level,\n",
    "            'symptom_frequency': symptom_frequency,\n",
    "            'months_since_entry': evaluation_month,\n",
    "            'treatment_start_month': treatment_start_time,\n",
    "            'is_treated': is_treated\n",
    "        })\n",
    "\n",
    "# Convert evaluations to DataFrame\n",
    "evaluations_df = pd.DataFrame(patient_evaluations)\n",
    "\n",
    "# Group by patient_index and calculate the mean for each patient's evaluations\n",
    "evaluation_summary = evaluations_df.groupby('patient_index')[['pain_level', 'urgency_level', 'symptom_frequency']].mean()\n",
    "\n",
    "# Display a preview of the evaluation summary\n",
    "evaluation_summary.head()\n"
   ]
  },
  {
   "cell_type": "markdown",
   "id": "818facda",
   "metadata": {},
   "source": [
    "<span style=\"font-size: 20px; color: #6E3482;\"> IV. Matching Treated and Untreated Patients by Distance</span>"
   ]
  },
  {
   "cell_type": "code",
   "execution_count": 22,
   "id": "b61293c5",
   "metadata": {},
   "outputs": [
    {
     "data": {
      "text/plain": [
       "[(197, 28), (197, 33), (197, 36), (197, 38), (197, 42)]"
      ]
     },
     "execution_count": 22,
     "metadata": {},
     "output_type": "execute_result"
    }
   ],
   "source": [
    "# Randomly split the baseline patients into treated and untreated groups\n",
    "treated_group = baseline.sample(frac=0.5, random_state=24)  # 50% treated\n",
    "untreated_group = baseline.drop(treated_group.index)  # Rest are untreated\n",
    "\n",
    "# Define risk_sets (treated and untreated)\n",
    "risk_sets = {\n",
    "    \"set_1\": (treated_group, untreated_group)  # This is just an example; you can define multiple sets as needed\n",
    "}\n",
    "\n",
    "# Now proceed with matching and distance calculation\n",
    "\n",
    "# Create an empty dictionary to store the new risk sets with matches\n",
    "new_rs = {}\n",
    "\n",
    "# Simulate risk sets matching process\n",
    "for key, (t, u) in risk_sets.items():\n",
    "    # Merge baseline data with treated and untreated patients\n",
    "    treated = t.merge(baseline, on='patient_id', suffixes=['_current', '_baseline'])\n",
    "    untreated = u.merge(baseline, on='patient_id', suffixes=['_current', '_baseline'])\n",
    "    \n",
    "    # Calculate distances between treated and untreated\n",
    "    distance_matrix = compute_distance(treated, untreated, variables)\n",
    "\n",
    "    # Store matches by distance\n",
    "    distance_dict = defaultdict(list)\n",
    "    for i, row in enumerate(distance_matrix):\n",
    "        for j, distance in enumerate(row):\n",
    "            distance_dict[distance].append((int(treated['patient_id'].iloc[i]), int(untreated['patient_id'].iloc[j])))\n",
    "    \n",
    "    # Sort the matches by distance and select up to MAX_MATCHES\n",
    "    mcf_matches = []\n",
    "    for keys in sorted(distance_dict.keys()):\n",
    "        for match in distance_dict[keys]:\n",
    "            if len(mcf_matches) < MAX_MATCHES:\n",
    "                mcf_matches.append(match)\n",
    "            else:\n",
    "                break\n",
    "    \n",
    "    new_rs[key] = mcf_matches\n",
    "\n",
    "# Preview the matches for the first risk set\n",
    "list(new_rs.values())[0][:5]\n"
   ]
  },
  {
   "cell_type": "markdown",
   "id": "e55dcc87",
   "metadata": {},
   "source": [
    "<span style=\"font-size: 20px; color: #6E3482;\"> V. Result Evaluation</span>"
   ]
  },
  {
   "cell_type": "code",
   "execution_count": 23,
   "id": "55be60ad",
   "metadata": {},
   "outputs": [
    {
     "name": "stdout",
     "output_type": "stream",
     "text": [
      "Risk Set set_1 has 100 matches.\n"
     ]
    }
   ],
   "source": [
    "# Check the length of the matches for each risk set\n",
    "for key, matches in new_rs.items():\n",
    "    print(f\"Risk Set {key} has {len(matches)} matches.\")"
   ]
  }
 ],
 "metadata": {
  "kernelspec": {
   "display_name": "Python 3 (ipykernel)",
   "language": "python",
   "name": "python3"
  },
  "language_info": {
   "codemirror_mode": {
    "name": "ipython",
    "version": 3
   },
   "file_extension": ".py",
   "mimetype": "text/x-python",
   "name": "python",
   "nbconvert_exporter": "python",
   "pygments_lexer": "ipython3",
   "version": "3.13.2"
  }
 },
 "nbformat": 4,
 "nbformat_minor": 5
}
