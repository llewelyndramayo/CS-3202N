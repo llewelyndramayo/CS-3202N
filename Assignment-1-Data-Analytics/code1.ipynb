{
 "cells": [
  {
   "cell_type": "markdown",
   "id": "ba88f95c-76f9-4923-aec1-b206ea08534a",
   "metadata": {
    "jp-MarkdownHeadingCollapsed": true
   },
   "source": [
    "# Assignment 1\n",
    "\n",
    "**Objective:**  \n",
    "This assignment tests your algorithmic thinking skills. You may use any A.I. tools or resources to assist you in completing this coding assignment.\n",
    "\n",
    "---\n",
    "\n",
    "## Instructions:\n",
    "\n",
    "1. **Teamwork:**  \n",
    "   - This assignment is to be done in pairs, preferably with your thesis partner.\n",
    "   \n",
    "2. **GitHub Repository:**  \n",
    "   - Each person should create a GitHub repository titled `Assignment_1_Data_Analytics`.\n",
    "   \n",
    "3. **Read the Journal:**  \n",
    "   - Thoroughly read the journal provided (make sure to check any additional resources).\n",
    "   \n",
    "4. **Develop Python Implementation:**  \n",
    "   - Implement the procedures discussed in the journal using Python. This should be a clean and well-documented Python implementation.\n",
    "   \n",
    "5. **Deadline:**  \n",
    "   - The assignment is due **before the pre-midterm week**. Make sure to finish and submit your work on time.\n",
    "\n",
    "---\n",
    "\n",
    "## Deliverables:\n",
    "1. Python implementation of the procedures outlined in the journal.\n",
    "2. Link to the **GitHub repository** containing the code.\n"
   ]
  },
  {
   "cell_type": "code",
   "execution_count": null,
   "id": "13630161-0d00-4c07-b4fb-0b6cd149c687",
   "metadata": {},
   "outputs": [],
   "source": []
  }
 ],
 "metadata": {
  "kernelspec": {
   "display_name": "Python 3 (ipykernel)",
   "language": "python",
   "name": "python3"
  },
  "language_info": {
   "codemirror_mode": {
    "name": "ipython",
    "version": 3
   },
   "file_extension": ".py",
   "mimetype": "text/x-python",
   "name": "python",
   "nbconvert_exporter": "python",
   "pygments_lexer": "ipython3",
   "version": "3.13.2"
  }
 },
 "nbformat": 4,
 "nbformat_minor": 5
}
