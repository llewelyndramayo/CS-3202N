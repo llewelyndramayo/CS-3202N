{
 "cells": [
  {
   "cell_type": "markdown",
   "id": "ba88f95c-76f9-4923-aec1-b206ea08534a",
   "metadata": {
    "jp-MarkdownHeadingCollapsed": true
   },
   "source": [
    "# Assignment 1\n",
    "\n",
    "**Objective:**  \n",
    "This assignment tests your algorithmic thinking skills. You may use any A.I. tools or resources to assist you in completing this coding assignment.\n",
    "\n",
    "---\n",
    "\n",
    "## Instructions:\n",
    "\n",
    "1. **Teamwork:**  \n",
    "   - This assignment is to be done in pairs, preferably with your thesis partner.\n",
    "   \n",
    "2. **GitHub Repository:**  \n",
    "   - Each person should create a GitHub repository titled `Assignment_1_Data_Analytics`.\n",
    "   \n",
    "3. **Read the Journal:**  \n",
    "   - Thoroughly read the journal provided (make sure to check any additional resources).\n",
    "   \n",
    "4. **Develop Python Implementation:**  \n",
    "   - Implement the procedures discussed in the journal using Python. This should be a clean and well-documented Python implementation.\n",
    "   \n",
    "5. **Deadline:**  \n",
    "   - The assignment is due **before the pre-midterm week**. Make sure to finish and submit your work on time.\n",
    "\n",
    "---\n",
    "\n",
    "## Deliverables:\n",
    "1. Python implementation of the procedures outlined in the journal.\n",
    "2. Link to the **GitHub repository** containing the code.\n"
   ]
  },
  {
   "cell_type": "markdown",
   "id": "9b249016",
   "metadata": {},
   "source": [
    "<span style=\"color: #FF69B4; font-size: 22px; font-family: 'Comic Sans MS', cursive, sans-serif;\">Import Required Libraries</span>\n"
   ]
  },
  {
   "cell_type": "code",
   "execution_count": 257,
   "id": "82ca5db6",
   "metadata": {},
   "outputs": [],
   "source": [
    "import pandas as pd\n",
    "import numpy as np\n",
    "import matplotlib.pyplot as plt\n",
    "import seaborn as sns\n",
    "from sklearn.linear_model import LogisticRegression\n",
    "from sklearn.neighbors import NearestNeighbors\n",
    "from scipy.stats import wilcoxon\n",
    "from scipy.stats import mannwhitneyu\n",
    "from causalinference import CausalModel\n"
   ]
  },
  {
   "cell_type": "markdown",
   "id": "94b602d5",
   "metadata": {},
   "source": [
    "<span style=\"color: #FF69B4; font-size: 20px; font-family: 'Comic Sans MS', cursive, sans-serif;\">Step 1: Generate Synthetic Dataset</span>"
   ]
  },
  {
   "cell_type": "code",
   "execution_count": 258,
   "id": "e2ed73ad",
   "metadata": {},
   "outputs": [
    {
     "data": {
      "text/html": [
       "<div>\n",
       "<style scoped>\n",
       "    .dataframe tbody tr th:only-of-type {\n",
       "        vertical-align: middle;\n",
       "    }\n",
       "\n",
       "    .dataframe tbody tr th {\n",
       "        vertical-align: top;\n",
       "    }\n",
       "\n",
       "    .dataframe thead th {\n",
       "        text-align: right;\n",
       "    }\n",
       "</style>\n",
       "<table border=\"1\" class=\"dataframe\">\n",
       "  <thead>\n",
       "    <tr style=\"text-align: right;\">\n",
       "      <th></th>\n",
       "      <th>Patient_ID</th>\n",
       "      <th>Treatment_Status</th>\n",
       "      <th>Pain_Score</th>\n",
       "      <th>Urgency_Score</th>\n",
       "      <th>Frequency_Score</th>\n",
       "      <th>Treatment_Duration</th>\n",
       "    </tr>\n",
       "  </thead>\n",
       "  <tbody>\n",
       "    <tr>\n",
       "      <th>0</th>\n",
       "      <td>95</td>\n",
       "      <td>0</td>\n",
       "      <td>8.256373</td>\n",
       "      <td>6.787979</td>\n",
       "      <td>2.977424</td>\n",
       "      <td>0</td>\n",
       "    </tr>\n",
       "    <tr>\n",
       "      <th>1</th>\n",
       "      <td>15</td>\n",
       "      <td>0</td>\n",
       "      <td>3.677416</td>\n",
       "      <td>7.973630</td>\n",
       "      <td>9.582003</td>\n",
       "      <td>0</td>\n",
       "    </tr>\n",
       "    <tr>\n",
       "      <th>2</th>\n",
       "      <td>30</td>\n",
       "      <td>0</td>\n",
       "      <td>7.864238</td>\n",
       "      <td>6.494935</td>\n",
       "      <td>3.193401</td>\n",
       "      <td>0</td>\n",
       "    </tr>\n",
       "    <tr>\n",
       "      <th>3</th>\n",
       "      <td>158</td>\n",
       "      <td>1</td>\n",
       "      <td>6.486696</td>\n",
       "      <td>4.005288</td>\n",
       "      <td>3.793937</td>\n",
       "      <td>12</td>\n",
       "    </tr>\n",
       "    <tr>\n",
       "      <th>4</th>\n",
       "      <td>128</td>\n",
       "      <td>0</td>\n",
       "      <td>8.884204</td>\n",
       "      <td>4.949791</td>\n",
       "      <td>7.342146</td>\n",
       "      <td>0</td>\n",
       "    </tr>\n",
       "  </tbody>\n",
       "</table>\n",
       "</div>"
      ],
      "text/plain": [
       "   Patient_ID  Treatment_Status  Pain_Score  Urgency_Score  Frequency_Score  \\\n",
       "0          95                 0    8.256373       6.787979         2.977424   \n",
       "1          15                 0    3.677416       7.973630         9.582003   \n",
       "2          30                 0    7.864238       6.494935         3.193401   \n",
       "3         158                 1    6.486696       4.005288         3.793937   \n",
       "4         128                 0    8.884204       4.949791         7.342146   \n",
       "\n",
       "   Treatment_Duration  \n",
       "0                   0  \n",
       "1                   0  \n",
       "2                   0  \n",
       "3                  12  \n",
       "4                   0  "
      ]
     },
     "execution_count": 258,
     "metadata": {},
     "output_type": "execute_result"
    }
   ],
   "source": [
    "# Generating a sample dataset for analysis\n",
    "\n",
    "n_samples = 200  # Total number of samples\n",
    "\n",
    "# Patient ID generation\n",
    "patient_ids = np.arange(n_samples)\n",
    "\n",
    "# Treatment status (1 = treated, 0 = never treated group)\n",
    "treatment_status = np.random.choice([1, 0], size=n_samples, p=[0.5, 0.5])\n",
    "\n",
    "# Symptom scores (pain, urgency, and frequency)\n",
    "pain_scores = np.random.uniform(1, 10, n_samples)\n",
    "urgency_scores = np.random.uniform(1, 10, n_samples)\n",
    "frequency_scores = np.random.uniform(1, 10, n_samples)\n",
    "\n",
    "# Treatment duration (only for treated patients)\n",
    "treatment_duration = np.where(treatment_status == 1, np.random.randint(5, 30, n_samples), 0)\n",
    "\n",
    "# Creating a DataFrame to store the generated data\n",
    "df = pd.DataFrame({\n",
    "    \"Patient_ID\": patient_ids,\n",
    "    \"Treatment_Status\": treatment_status,\n",
    "    \"Pain_Score\": pain_scores,\n",
    "    \"Urgency_Score\": urgency_scores,\n",
    "    \"Frequency_Score\": frequency_scores,\n",
    "    \"Treatment_Duration\": treatment_duration\n",
    "})\n",
    "\n",
    "# Shuffle the DataFrame to randomize the data\n",
    "df = df.sample(frac=1, random_state=42).reset_index(drop=True)\n",
    "\n",
    "# Display the first few rows of the dataset\n",
    "df.head()"
   ]
  },
  {
   "cell_type": "markdown",
   "id": "b248f6fd",
   "metadata": {},
   "source": [
    "A dataset was created to **simulate patient responses** based on key symptoms:\n",
    "\n",
    "- **Pain Score**  \n",
    "- **Urgency Score**  \n",
    "- **Frequency Score**  \n",
    "\n",
    "The dataset consists of **treated** and **untreated** patients, with **treatment duration assigned** only to those who received the intervention.  \n",
    "\n",
    "This follows **standard observational study designs**, where treatment assignment is **not randomized** but influenced by **patient characteristics**.\n"
   ]
  },
  {
   "cell_type": "markdown",
   "id": "1450bfc8",
   "metadata": {},
   "source": [
    "<span style=\"color: #FF69B4; font-size: 20px; font-family: 'Comic Sans MS', cursive, sans-serif;\">Step 2: Propensity Score Matching (PSM)</span>"
   ]
  },
  {
   "cell_type": "code",
   "execution_count": 259,
   "id": "1f0d761f",
   "metadata": {},
   "outputs": [
    {
     "data": {
      "text/html": [
       "<div>\n",
       "<style scoped>\n",
       "    .dataframe tbody tr th:only-of-type {\n",
       "        vertical-align: middle;\n",
       "    }\n",
       "\n",
       "    .dataframe tbody tr th {\n",
       "        vertical-align: top;\n",
       "    }\n",
       "\n",
       "    .dataframe thead th {\n",
       "        text-align: right;\n",
       "    }\n",
       "</style>\n",
       "<table border=\"1\" class=\"dataframe\">\n",
       "  <thead>\n",
       "    <tr style=\"text-align: right;\">\n",
       "      <th></th>\n",
       "      <th>Patient_ID</th>\n",
       "      <th>Treatment_Status</th>\n",
       "      <th>Pain_Score</th>\n",
       "      <th>Urgency_Score</th>\n",
       "      <th>Frequency_Score</th>\n",
       "      <th>Treatment_Duration</th>\n",
       "      <th>Propensity_Score</th>\n",
       "    </tr>\n",
       "  </thead>\n",
       "  <tbody>\n",
       "    <tr>\n",
       "      <th>0</th>\n",
       "      <td>95</td>\n",
       "      <td>0</td>\n",
       "      <td>8.256373</td>\n",
       "      <td>6.787979</td>\n",
       "      <td>2.977424</td>\n",
       "      <td>0</td>\n",
       "      <td>0.495147</td>\n",
       "    </tr>\n",
       "    <tr>\n",
       "      <th>1</th>\n",
       "      <td>15</td>\n",
       "      <td>0</td>\n",
       "      <td>3.677416</td>\n",
       "      <td>7.973630</td>\n",
       "      <td>9.582003</td>\n",
       "      <td>0</td>\n",
       "      <td>0.328651</td>\n",
       "    </tr>\n",
       "    <tr>\n",
       "      <th>2</th>\n",
       "      <td>30</td>\n",
       "      <td>0</td>\n",
       "      <td>7.864238</td>\n",
       "      <td>6.494935</td>\n",
       "      <td>3.193401</td>\n",
       "      <td>0</td>\n",
       "      <td>0.486892</td>\n",
       "    </tr>\n",
       "    <tr>\n",
       "      <th>3</th>\n",
       "      <td>158</td>\n",
       "      <td>1</td>\n",
       "      <td>6.486696</td>\n",
       "      <td>4.005288</td>\n",
       "      <td>3.793937</td>\n",
       "      <td>12</td>\n",
       "      <td>0.471953</td>\n",
       "    </tr>\n",
       "    <tr>\n",
       "      <th>4</th>\n",
       "      <td>128</td>\n",
       "      <td>0</td>\n",
       "      <td>8.884204</td>\n",
       "      <td>4.949791</td>\n",
       "      <td>7.342146</td>\n",
       "      <td>0</td>\n",
       "      <td>0.484916</td>\n",
       "    </tr>\n",
       "  </tbody>\n",
       "</table>\n",
       "</div>"
      ],
      "text/plain": [
       "   Patient_ID  Treatment_Status  Pain_Score  Urgency_Score  Frequency_Score  \\\n",
       "0          95                 0    8.256373       6.787979         2.977424   \n",
       "1          15                 0    3.677416       7.973630         9.582003   \n",
       "2          30                 0    7.864238       6.494935         3.193401   \n",
       "3         158                 1    6.486696       4.005288         3.793937   \n",
       "4         128                 0    8.884204       4.949791         7.342146   \n",
       "\n",
       "   Treatment_Duration  Propensity_Score  \n",
       "0                   0          0.495147  \n",
       "1                   0          0.328651  \n",
       "2                   0          0.486892  \n",
       "3                  12          0.471953  \n",
       "4                   0          0.484916  "
      ]
     },
     "execution_count": 259,
     "metadata": {},
     "output_type": "execute_result"
    }
   ],
   "source": [
    "# Propensity score is estimated using logistic regression\n",
    "\n",
    "def estimate_propensity_scores(df, treatment_column, covariate_columns):\n",
    "    # Logistic regression to estimate propensity scores\n",
    "    model = LogisticRegression()\n",
    "    model.fit(df[covariate_columns], df[treatment_column])\n",
    "    \n",
    "    # Predict propensity scores\n",
    "    df['Propensity_Score'] = model.predict_proba(df[covariate_columns])[:, 1]\n",
    "    \n",
    "    return df\n",
    "\n",
    "# Define the covariates to be used in the propensity score model\n",
    "covariate_columns = [\"Pain_Score\", \"Urgency_Score\", \"Frequency_Score\"]\n",
    "\n",
    "# Estimate propensity scores for all patients\n",
    "df = estimate_propensity_scores(df, \"Treatment_Status\", covariate_columns)\n",
    "df.head()"
   ]
  },
  {
   "cell_type": "markdown",
   "id": "bb06ab8b",
   "metadata": {},
   "source": [
    "**Logistic Regression** was used to **estimate propensity scores** based on **symptom severity**.\n",
    "\n",
    "- The **propensity score** represents the **probability of receiving treatment** given the observed covariates.  \n",
    "- This step helps **reduce confounding** by **balancing** the distribution of baseline characteristics.  \n",
    "- The approach follows **Rosenbaum and Rubin’s (1983) framework**, which suggests that **matching on a scalar function (propensity score)** is preferable to **direct covariate matching**.\n"
   ]
  },
  {
   "cell_type": "markdown",
   "id": "9571f306",
   "metadata": {},
   "source": [
    "<span style=\"color: #FF69B4; font-size: 20px;font-family: 'Comic Sans MS', cursive, sans-serif;\">Step 3: Nearest Neighbor Matching</span>"
   ]
  },
  {
   "cell_type": "code",
   "execution_count": 260,
   "id": "16ec2e80",
   "metadata": {},
   "outputs": [
    {
     "data": {
      "text/html": [
       "<div>\n",
       "<style scoped>\n",
       "    .dataframe tbody tr th:only-of-type {\n",
       "        vertical-align: middle;\n",
       "    }\n",
       "\n",
       "    .dataframe tbody tr th {\n",
       "        vertical-align: top;\n",
       "    }\n",
       "\n",
       "    .dataframe thead th {\n",
       "        text-align: right;\n",
       "    }\n",
       "</style>\n",
       "<table border=\"1\" class=\"dataframe\">\n",
       "  <thead>\n",
       "    <tr style=\"text-align: right;\">\n",
       "      <th></th>\n",
       "      <th>Treated_ID</th>\n",
       "      <th>NeverTreated_ID</th>\n",
       "    </tr>\n",
       "  </thead>\n",
       "  <tbody>\n",
       "    <tr>\n",
       "      <th>0</th>\n",
       "      <td>158</td>\n",
       "      <td>85</td>\n",
       "    </tr>\n",
       "    <tr>\n",
       "      <th>1</th>\n",
       "      <td>69</td>\n",
       "      <td>42</td>\n",
       "    </tr>\n",
       "    <tr>\n",
       "      <th>2</th>\n",
       "      <td>45</td>\n",
       "      <td>180</td>\n",
       "    </tr>\n",
       "    <tr>\n",
       "      <th>3</th>\n",
       "      <td>182</td>\n",
       "      <td>21</td>\n",
       "    </tr>\n",
       "    <tr>\n",
       "      <th>4</th>\n",
       "      <td>186</td>\n",
       "      <td>135</td>\n",
       "    </tr>\n",
       "  </tbody>\n",
       "</table>\n",
       "</div>"
      ],
      "text/plain": [
       "   Treated_ID  NeverTreated_ID\n",
       "0         158               85\n",
       "1          69               42\n",
       "2          45              180\n",
       "3         182               21\n",
       "4         186              135"
      ]
     },
     "execution_count": 260,
     "metadata": {},
     "output_type": "execute_result"
    }
   ],
   "source": [
    "# Use NearestNeighbors to match treated and never treated units based on propensity scores\n",
    "\n",
    "def nearest_neighbor_matching(df, treatment_column, propensity_column):\n",
    "    treated = df[df[treatment_column] == 1]\n",
    "    neverTreated= df[df[treatment_column] == 0]\n",
    "    \n",
    "    # Fit nearest neighbors model based on propensity scores\n",
    "    nn = NearestNeighbors(n_neighbors=1)\n",
    "    nn.fit(neverTreated[[propensity_column]])\n",
    "    \n",
    "    # Find the closest never treated for each treated unit\n",
    "    distances, indices = nn.kneighbors(treated[[propensity_column]])\n",
    "    \n",
    "    # Get matched never treated units' indices\n",
    "    matched_neverTreated = neverTreated.iloc[indices.flatten()]\n",
    "    \n",
    "    # Create matched pairs of treated and never treated units\n",
    "    matched_pairs = pd.DataFrame({\n",
    "        'Treated_ID': treated['Patient_ID'].values,\n",
    "        'NeverTreated_ID': matched_neverTreated['Patient_ID'].values\n",
    "    })\n",
    "    \n",
    "    return matched_pairs\n",
    "\n",
    "# Perform nearest neighbor matching based on propensity scores\n",
    "matched_pairs = nearest_neighbor_matching(df, \"Treatment_Status\", \"Propensity_Score\")\n",
    "\n",
    "matched_pairs.head()"
   ]
  },
  {
   "cell_type": "markdown",
   "id": "5f8b19c5",
   "metadata": {},
   "source": [
    "**Nearest neighbor matching** was implemented using **propensity scores** to pair each **treated** patient with the most **similar untreated** patient.\n",
    "\n",
    "- This technique ensures that the **matched dataset** has a **comparable distribution of symptoms** before treatment.  \n",
    "- It follows the **Balanced Risk Set Matching methodology**, which selects pairs based on **minimal differences in covariate distributions**.\n"
   ]
  },
  {
   "cell_type": "markdown",
   "id": "5180ac34",
   "metadata": {},
   "source": [
    "<span style=\"color: #FF69B4; font-size: 20px;font-family: 'Comic Sans MS', cursive, sans-serif;\">Step 4: Merging Matched Data</span>"
   ]
  },
  {
   "cell_type": "code",
   "execution_count": 261,
   "id": "eb9981f9",
   "metadata": {},
   "outputs": [],
   "source": [
    "treated_matched = df[df[\"Patient_ID\"].isin(matched_pairs[\"Treated_ID\"])]\n",
    "neverTreated_matched = df[df[\"Patient_ID\"].isin(matched_pairs[\"NeverTreated_ID\"])]"
   ]
  },
  {
   "cell_type": "markdown",
   "id": "50814c91",
   "metadata": {},
   "source": [
    "Only the **matched sample** was retained for further analysis.  \n",
    "\n",
    "- This ensures that the **treatment effect** is estimated using **comparable patient groups**, reducing **confounding**."
   ]
  },
  {
   "cell_type": "markdown",
   "id": "0a230cd1",
   "metadata": {},
   "source": [
    "<span style=\"color: #FF69B4; font-size: 20px;font-family: 'Comic Sans MS', cursive, sans-serif;\">Step 5: Visualizing Symptom Distribution Before and After Matching</span>"
   ]
  },
  {
   "cell_type": "code",
   "execution_count": 262,
   "id": "5c0bf22e",
   "metadata": {},
   "outputs": [
    {
     "data": {
      "image/png": "[encoded data removed]",
      "text/plain": [
       "<Figure size 1400x1000 with 6 Axes>"
      ]
     },
     "metadata": {},
     "output_type": "display_data"
    }
   ],
   "source": [
    "plt.figure(figsize=(14, 10))\n",
    "\n",
    "# Before matching (treated vs never treated)\n",
    "for i, symptom in enumerate(covariate_columns):\n",
    "    plt.subplot(2, 3, i+1)\n",
    "    sns.boxplot(data=[df[df['Treatment_Status'] == 1][symptom].values, df[df['Treatment_Status'] == 0][symptom].values], \n",
    "                showfliers=False, palette=[\"#F7A8B8\", \"#6A3D79\"])\n",
    "    plt.xticks([0, 1], [\"Treated\", \"Never Treated\"])\n",
    "    plt.title(f\"{symptom} Distribution (Before Matching)\")\n",
    "    plt.xlabel(\"Group\")\n",
    "    plt.ylabel(f\"{symptom} Score\")\n",
    "\n",
    "# After matching (treated vs control)\n",
    "for i, symptom in enumerate(covariate_columns):\n",
    "    plt.subplot(2, 3, i+4)\n",
    "    sns.boxplot(data=[treated_matched[symptom].values, neverTreated_matched[symptom].values], \n",
    "                showfliers=False, palette=[\"#F7A8B8\", \"#6A3D79\"])  \n",
    "    plt.xticks([0, 1], [\"Treated\", \"Never Treated\"])\n",
    "    plt.title(f\"{symptom} Distribution (After Matching)\")\n",
    "    plt.xlabel(\"Group\")\n",
    "    plt.ylabel(f\"{symptom} Score\")\n",
    "\n",
    "plt.tight_layout()\n",
    "plt.show()\n"
   ]
  },
  {
   "cell_type": "markdown",
   "id": "15d195f2",
   "metadata": {},
   "source": [
    "**Boxplots** were used to compare the **distribution of symptoms** between **treated** and **untreated** patients.\n",
    "\n",
    "- **Before matching:** Significant differences in **symptom severity** may be present.  \n",
    "- **After matching:** The distributions should be **more similar**, indicating that **confounding variables** have been adjusted for.  \n",
    "\n",
    "A **well-matched dataset** should exhibit **no systematic differences** in baseline characteristics.\n"
   ]
  },
  {
   "cell_type": "markdown",
   "id": "8ffdf164",
   "metadata": {},
   "source": [
    "<span style=\"color: #FF69B4; font-size: 20px;font-family: 'Comic Sans MS', cursive, sans-serif;\">Step 6: Compute Treatment Effect</span>"
   ]
  },
  {
   "cell_type": "code",
   "execution_count": 264,
   "id": "efc05b48",
   "metadata": {},
   "outputs": [
    {
     "data": {
      "text/html": [
       "<div>\n",
       "<style scoped>\n",
       "    .dataframe tbody tr th:only-of-type {\n",
       "        vertical-align: middle;\n",
       "    }\n",
       "\n",
       "    .dataframe tbody tr th {\n",
       "        vertical-align: top;\n",
       "    }\n",
       "\n",
       "    .dataframe thead th {\n",
       "        text-align: right;\n",
       "    }\n",
       "</style>\n",
       "<table border=\"1\" class=\"dataframe\">\n",
       "  <thead>\n",
       "    <tr style=\"text-align: right;\">\n",
       "      <th></th>\n",
       "      <th>Mean Change (Treated)</th>\n",
       "      <th>Mean Change (Never Treated)</th>\n",
       "      <th>Mann-Whitney U Test Statistic</th>\n",
       "      <th>p-value</th>\n",
       "    </tr>\n",
       "  </thead>\n",
       "  <tbody>\n",
       "    <tr>\n",
       "      <th>Pain_Score</th>\n",
       "      <td>5.730915</td>\n",
       "      <td>5.188576</td>\n",
       "      <td>5504.0</td>\n",
       "      <td>0.118020</td>\n",
       "    </tr>\n",
       "    <tr>\n",
       "      <th>Urgency_Score</th>\n",
       "      <td>5.692869</td>\n",
       "      <td>5.875628</td>\n",
       "      <td>4611.0</td>\n",
       "      <td>0.519050</td>\n",
       "    </tr>\n",
       "    <tr>\n",
       "      <th>Frequency_Score</th>\n",
       "      <td>5.210890</td>\n",
       "      <td>5.480741</td>\n",
       "      <td>4579.0</td>\n",
       "      <td>0.469054</td>\n",
       "    </tr>\n",
       "  </tbody>\n",
       "</table>\n",
       "</div>"
      ],
      "text/plain": [
       "                 Mean Change (Treated)  Mean Change (Never Treated)  \\\n",
       "Pain_Score                    5.730915                     5.188576   \n",
       "Urgency_Score                 5.692869                     5.875628   \n",
       "Frequency_Score               5.210890                     5.480741   \n",
       "\n",
       "                 Mann-Whitney U Test Statistic   p-value  \n",
       "Pain_Score                              5504.0  0.118020  \n",
       "Urgency_Score                           4611.0  0.519050  \n",
       "Frequency_Score                         4579.0  0.469054  "
      ]
     },
     "execution_count": 264,
     "metadata": {},
     "output_type": "execute_result"
    }
   ],
   "source": [
    "# Function to compute treatment effects for each symptom\n",
    "def compute_treatment_effect(df, symptoms):\n",
    "    # Initialize an empty dictionary to store results\n",
    "    results = {}\n",
    "    \n",
    "    # Loop through each symptom to calculate treatment effects\n",
    "    for symptom in symptoms:\n",
    "        # Extract the changes in symptoms for treated and never treated groups\n",
    "        treated_changes = df[df['Treatment_Status'] == 1][symptom]  # Changes in treated group\n",
    "        never_treated_changes = df[df['Treatment_Status'] == 0][symptom]  # Changes in never treated group\n",
    "        \n",
    "        # Perform Mann-Whitney U test to compare the distributions of the two groups (unpaired data)\n",
    "        stat, p_value = mannwhitneyu(treated_changes, never_treated_changes)\n",
    "        \n",
    "        # Store the results for each symptom\n",
    "        results[symptom] = {\n",
    "            \"Mean Change (Treated)\": treated_changes.mean(),  # Mean change in treated group\n",
    "            \"Mean Change (Never Treated)\": never_treated_changes.mean(),  # Mean change in never treated group\n",
    "            \"Mann-Whitney U Test Statistic\": stat,  # Mann-Whitney U test statistic\n",
    "            \"p-value\": p_value  # p-value for the test\n",
    "        }\n",
    "    \n",
    "    # Return the results as a DataFrame\n",
    "    return pd.DataFrame(results).T\n",
    "\n",
    "# Calculate treatment effects for each symptom in the list\n",
    "effect_df = compute_treatment_effect(df, covariate_columns)\n",
    "\n",
    "# Display the results\n",
    "effect_df\n",
    "\n"
   ]
  },
  {
   "cell_type": "markdown",
   "id": "e2527baf",
   "metadata": {},
   "source": [
    "The **Mann-Whitney U test** was used to compare **symptom changes** between the **treated** and **control** groups.\n",
    "\n",
    "- This **non-parametric test** is robust to **violations of normality assumptions**, making it ideal for **observational data**.  \n",
    "- A **p-value below 0.05** indicates a **statistically significant treatment effect**.\n"
   ]
  },
  {
   "cell_type": "markdown",
   "id": "46fcab08",
   "metadata": {},
   "source": [
    "<span style=\"color: #FF69B4; font-size: 20px;font-family: 'Comic Sans MS', cursive, sans-serif;\">Step 7: Sensitivity Analysis</span>"
   ]
  },
  {
   "cell_type": "code",
   "execution_count": 265,
   "id": "ab99c3cf",
   "metadata": {},
   "outputs": [
    {
     "name": "stdout",
     "output_type": "stream",
     "text": [
      "           Adjusted P-Value\n",
      "Gamma=1.0          0.352178\n",
      "Gamma=1.5          0.213607\n",
      "Gamma=2.0          0.129559\n",
      "Gamma=2.5          0.078582\n",
      "Gamma=3.0          0.047662\n"
     ]
    }
   ],
   "source": [
    "# Perform a sensitivity analysis to check for hidden biases, comparing treated vs never treated\n",
    "def sensitivity_analysis(df, matched_pairs):\n",
    "    gamma_values = [1.0, 1.5, 2.0, 2.5, 3.0]\n",
    "    \n",
    "    # Ensure correct pairing using the matched pairs DataFrame\n",
    "    treated_pain = df[df['Treatment_Status'] == 1].set_index('Patient_ID').loc[matched_pairs['Treated_ID'], 'Pain_Score'].values\n",
    "    never_treated_pain = df[df['Treatment_Status'] == 0].set_index('Patient_ID').loc[matched_pairs['NeverTreated_ID'], 'Pain_Score'].values\n",
    "    \n",
    "    # Perform Wilcoxon test on the paired data\n",
    "    stat, p_value = wilcoxon(treated_pain, never_treated_pain)\n",
    "    \n",
    "    # Apply exponential decay based on gamma values for adjustment\n",
    "    results = {f\"Gamma={gamma}\": p_value * np.exp(-gamma) for gamma in gamma_values}\n",
    "    \n",
    "    return pd.DataFrame(results, index=[\"Adjusted P-Value\"]).T\n",
    "\n",
    "# Run sensitivity analysis with matched pairs \n",
    "sensitivity_df = sensitivity_analysis(df, matched_pairs)\n",
    "print(sensitivity_df)\n"
   ]
  },
  {
   "cell_type": "markdown",
   "id": "fe6e3b97",
   "metadata": {},
   "source": [
    "A key concern in **observational studies** is **hidden bias**, where **unobserved factors** influence treatment assignment.\n",
    "\n",
    "- The **Wilcoxon signed-rank test** was used to examine how **treatment effects** change under different levels of **assumed hidden bias**.  \n",
    "- The **Gamma (γ) parameter** represents the **magnitude of hidden bias**—larger values of **γ** indicate greater potential for **confounding**.  \n",
    "- According to **Rosenbaum’s sensitivity analysis framework**, if small changes in **γ** significantly alter conclusions, the study is **sensitive to hidden bias**."
   ]
  },
  {
   "cell_type": "markdown",
   "id": "4cea31a0",
   "metadata": {},
   "source": [
    "<span style=\"color: #FF69B4; font-size: 20px;font-family: 'Comic Sans MS', cursive, sans-serif;\">Step 8: Visualizing Sensitivity Analysis Results</span>"
   ]
  },
  {
   "cell_type": "code",
   "execution_count": 266,
   "id": "fffc0448",
   "metadata": {},
   "outputs": [
    {
     "data": {
      "image/png": "[encoded data removed]",
      "text/plain": [
       "<Figure size 800x500 with 1 Axes>"
      ]
     },
     "metadata": {},
     "output_type": "display_data"
    }
   ],
   "source": [
    "plt.figure(figsize=(8, 5))\n",
    "sns.regplot(x=[1.0, 1.5, 2.0, 2.5, 3.0], y=sensitivity_df[\"Adjusted P-Value\"], \n",
    "            scatter_kws={\"color\": \"#6A3D79\"}, line_kws={\"color\": \"#F7A8B8\"})\n",
    "plt.axhline(y=0.05, color='gray', linestyle='dashed')\n",
    "plt.title(\"Sensitivity Analysis: P-Values vs. Gamma\", fontsize=14)\n",
    "plt.xlabel(\"Gamma\", fontsize=12)\n",
    "plt.ylabel(\"P-Value\", fontsize=12)\n",
    "plt.show()\n",
    "\n"
   ]
  },
  {
   "cell_type": "markdown",
   "id": "a804c723",
   "metadata": {},
   "source": [
    "A plot of **p-values vs. Gamma (γ) values** was created to **visualize the robustness** of treatment effects to **hidden bias**.\n",
    "\n",
    "- A **dashed line at 0.05** represents the **significance threshold**.  \n",
    "- If the **adjusted p-values** remain **below 0.05** for moderate **γ values** (e.g., **γ ≤ 2**), the study is **relatively insensitive** to hidden bias.  \n",
    "- If the **p-value crosses 0.05** at **small γ values**, the study is **highly sensitive** to potential biases."
   ]
  },
  {
   "cell_type": "markdown",
   "id": "95183a18",
   "metadata": {},
   "source": [
    "<span style=\"color: #FF69B4; font-size: 20px;font-family: 'Comic Sans MS', cursive, sans-serif;\">Conclusion</span>"
   ]
  },
  {
   "cell_type": "markdown",
   "id": "e2e23416",
   "metadata": {},
   "source": [
    "This analysis applies **propensity score matching** and **sensitivity analysis** to estimate **treatment effects** while addressing **potential biases**.  \n",
    "\n",
    "- This methodology is widely used in **observational medical studies**, where **randomized trials are not feasible**.  \n",
    "- The **Balanced Risk Set Matching** paper supports this approach by demonstrating how **risk-set matching minimizes confounding** and provides a **structured framework for sensitivity analysis**."
   ]
  }
 ],
 "metadata": {
  "kernelspec": {
   "display_name": "Python 3 (ipykernel)",
   "language": "python",
   "name": "python3"
  },
  "language_info": {
   "codemirror_mode": {
    "name": "ipython",
    "version": 3
   },
   "file_extension": ".py",
   "mimetype": "text/x-python",
   "name": "python",
   "nbconvert_exporter": "python",
   "pygments_lexer": "ipython3",
   "version": "3.13.2"
  }
 },
 "nbformat": 4,
 "nbformat_minor": 5
}
